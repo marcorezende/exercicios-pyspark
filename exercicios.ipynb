{
  "nbformat": 4,
  "nbformat_minor": 0,
  "metadata": {
    "colab": {
      "provenance": []
    },
    "kernelspec": {
      "name": "python3",
      "display_name": "Python 3"
    },
    "language_info": {
      "name": "python"
    }
  },
  "cells": [
    {
      "cell_type": "markdown",
      "source": [
        "Exercicio 1 - Ler WorldCupPlayers.csv CSV COM HEADER\n"
      ],
      "metadata": {
        "id": "kRHye8lDShMy"
      }
    },
    {
      "cell_type": "code",
      "source": [],
      "metadata": {
        "id": "Xp2efFfISmj7"
      },
      "execution_count": null,
      "outputs": []
    },
    {
      "cell_type": "markdown",
      "source": [
        "Exercicio 2 - Selecionar apenas a colunar 'Player Name' do arquivo WorldCupPlayers.csv\n"
      ],
      "metadata": {
        "id": "ArNpxkJxSoay"
      }
    },
    {
      "cell_type": "code",
      "source": [],
      "metadata": {
        "id": "hljncGckSo5i"
      },
      "execution_count": null,
      "outputs": []
    },
    {
      "cell_type": "markdown",
      "source": [
        "Exercicio 3 - Selecionar a coluna 'Player Name' e 'Team Initials' do arquivo WorldCupPlayers.csv"
      ],
      "metadata": {
        "id": "N9OPu1VcSpHY"
      }
    },
    {
      "cell_type": "code",
      "source": [],
      "metadata": {
        "id": "gnCTVwJISpQ7"
      },
      "execution_count": null,
      "outputs": []
    },
    {
      "cell_type": "markdown",
      "source": [
        "Exercicio 4 - Renomear coluna 'Team Initials' para 'Inicial Time' do arquivo WorldCupPlayers.csv"
      ],
      "metadata": {
        "id": "Y9QbZcCsSpYW"
      }
    },
    {
      "cell_type": "code",
      "source": [],
      "metadata": {
        "id": "CrnfZj83Spdw"
      },
      "execution_count": null,
      "outputs": []
    },
    {
      "cell_type": "markdown",
      "source": [
        "Exercicio 5 - Dropar Coluna 'Shirt Number' do arquivo WorldCupPlayers.csv"
      ],
      "metadata": {
        "id": "iB-wGejjSpiN"
      }
    },
    {
      "cell_type": "code",
      "source": [],
      "metadata": {
        "id": "FbOncuFrSpmR"
      },
      "execution_count": null,
      "outputs": []
    },
    {
      "cell_type": "markdown",
      "source": [
        "Exercicio 6 - Filtrar a coluna 'Team Initials' para vir somente 'BRA' (Brasil) do arquivo WorldCupPlayers.csv"
      ],
      "metadata": {
        "id": "pJdJPa9fSpqP"
      }
    },
    {
      "cell_type": "code",
      "source": [],
      "metadata": {
        "id": "6mrsSoAQSpuR"
      },
      "execution_count": null,
      "outputs": []
    },
    {
      "cell_type": "markdown",
      "source": [
        "Exercicio 7 - Criar nova Coluna 'Gols' com o valor fixo de 10 no arquivo WorldCupPlayers.csv"
      ],
      "metadata": {
        "id": "my0HCAZQSpyF"
      }
    },
    {
      "cell_type": "code",
      "source": [],
      "metadata": {
        "id": "Hp6SJkswSp2r"
      },
      "execution_count": null,
      "outputs": []
    }
  ]
}